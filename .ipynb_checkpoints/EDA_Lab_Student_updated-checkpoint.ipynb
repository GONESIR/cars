{
 "cells": [
  {
   "cell_type": "markdown",
   "metadata": {
    "id": "6V76ugdRc8tj"
   },
   "source": [
    "# **DSBA 6165 - Lab 1: EDA**\n",
    "\n",
    "Professor: Rick Chakra\n",
    "\n",
    "TA: Geethika Balasubramanian"
   ]
  },
  {
   "cell_type": "markdown",
   "metadata": {
    "id": "gFrXAhaLdgsW"
   },
   "source": [
    "# Inital Steps\n",
    "\n",
    "The first step is to import the libraries that you will use and to import the data."
   ]
  },
  {
   "cell_type": "code",
   "execution_count": null,
   "metadata": {
    "id": "O-vg6qQic5b0"
   },
   "outputs": [],
   "source": [
    "#Importing Libraries\n",
    "import pandas as pd\n",
    "import numpy as np\n",
    "import matplotlib.pyplot as plt\n",
    "import seaborn as sns"
   ]
  },
  {
   "cell_type": "markdown",
   "metadata": {
    "id": "kWM0O1sLerlF"
   },
   "source": [
    "Before importing data into Jupyter notebook, you must import file into Colab.\n",
    "**This step must be repeated whenever runtime restarts.**\n",
    "\n",
    "When importing the data you have two options for how to name the data.\n",
    "\n",
    "1. Use a non-discriptive name such as data. Only use if only 1 dataset is being imported\n",
    "2. Use a discriptive name such as cars. This can be used in all scenarios."
   ]
  },
  {
   "cell_type": "code",
   "execution_count": null,
   "metadata": {
    "id": "Ykd5jG3LeZiN"
   },
   "outputs": [],
   "source": [
    "#Importing Dataset"
   ]
  },
  {
   "cell_type": "markdown",
   "metadata": {
    "id": "qxwBgIh2m3bG"
   },
   "source": [
    "The next step is to look at the data as a whole. Some of the methods include but are not limited to\n",
    "1. Looking at the top of the data\n",
    "2. Looking at the bottom of the data\n",
    "3. Looking at spread of data\n",
    "4. Looking at information about the columns"
   ]
  },
  {
   "cell_type": "code",
   "execution_count": null,
   "metadata": {
    "id": "_N1gO6RJm2qp"
   },
   "outputs": [],
   "source": [
    "#Looking at top 5 Rows\n"
   ]
  },
  {
   "cell_type": "code",
   "execution_count": null,
   "metadata": {
    "id": "2-ZPHvBonwwc"
   },
   "outputs": [],
   "source": [
    "#Looking at bottom 5 rows\n"
   ]
  },
  {
   "cell_type": "markdown",
   "metadata": {
    "id": "1TH14k7Tob1q"
   },
   "source": [
    "Looking at the top and bottom of the data doesn't tell you much about the data as a whole. These steps can be useful when you don't know what the data looks like and looking at this can help give basic information about the data such as examples of what kind of data populates each of the columns.\n",
    "\n",
    "The next two methods of looking at the data will give us a better idea of how the data looks as a whole."
   ]
  },
  {
   "cell_type": "code",
   "execution_count": null,
   "metadata": {
    "id": "XYWHZAluny-K"
   },
   "outputs": [],
   "source": [
    "#Look at data spread including object variables (transposed)\n"
   ]
  },
  {
   "cell_type": "code",
   "execution_count": null,
   "metadata": {
    "id": "S2YSI4884HpK"
   },
   "outputs": [],
   "source": [
    "# Explore Cardinality\n",
    "\n",
    "\n",
    "# Explore Cardinality by Count\n"
   ]
  },
  {
   "cell_type": "code",
   "execution_count": null,
   "metadata": {
    "id": "_5R7yu1-n-O_"
   },
   "outputs": [],
   "source": [
    "#Look at data types, non-null counts and data types\n"
   ]
  },
  {
   "cell_type": "markdown",
   "metadata": {
    "id": "-ks7ZLCG1g2d"
   },
   "source": [
    "The last step of just looking at the data is looking at nulls becuase Null values often can't be used by machine learning packages so its a good idea to see where the nulls are."
   ]
  },
  {
   "cell_type": "code",
   "execution_count": null,
   "metadata": {
    "id": "FAaqTK_UoKYN"
   },
   "outputs": [],
   "source": [
    "#Null Counts per column\n"
   ]
  },
  {
   "cell_type": "code",
   "execution_count": null,
   "metadata": {
    "id": "sLYlr4-8oD6t"
   },
   "outputs": [],
   "source": [
    "#Null % per each column\n"
   ]
  },
  {
   "cell_type": "markdown",
   "metadata": {
    "id": "FpHUfJzJoK99"
   },
   "source": [
    "# Feature Engineering\n",
    "Now that we have a general idea of what the data, the first step is to get rid of superflous columns.\n",
    "1. S.No. is an ID column, these do nothing but tick for each row and thus arent useful.\n",
    "2. New_Price is missing >85% of its data. This will make it hard to impute missing values."
   ]
  },
  {
   "cell_type": "code",
   "execution_count": null,
   "metadata": {
    "colab": {
     "base_uri": "https://localhost:8080/",
     "height": 245
    },
    "executionInfo": {
     "elapsed": 8,
     "status": "error",
     "timestamp": 1705537932334,
     "user": {
      "displayName": "Rick Chakra",
      "userId": "10700722839152583076"
     },
     "user_tz": 300
    },
    "id": "4nQ8WGw31-B9",
    "outputId": "8c409821-0475-44c3-b76b-dab925af81b8"
   },
   "outputs": [
    {
     "ename": "NameError",
     "evalue": "name 'data' is not defined",
     "output_type": "error",
     "traceback": [
      "\u001b[0;31m---------------------------------------------------------------------------\u001b[0m",
      "\u001b[0;31mNameError\u001b[0m                                 Traceback (most recent call last)",
      "\u001b[0;32m<ipython-input-10-9a0a8e8f3a8a>\u001b[0m in \u001b[0;36m<cell line: 2>\u001b[0;34m()\u001b[0m\n\u001b[1;32m      1\u001b[0m \u001b[0;31m# Remove S.No. column from data\u001b[0m\u001b[0;34m\u001b[0m\u001b[0;34m\u001b[0m\u001b[0m\n\u001b[0;32m----> 2\u001b[0;31m \u001b[0mdata\u001b[0m \u001b[0;34m=\u001b[0m \u001b[0mdata\u001b[0m\u001b[0;34m.\u001b[0m\u001b[0mdrop\u001b[0m\u001b[0;34m(\u001b[0m\u001b[0;34m[\u001b[0m\u001b[0;34m'S.No.'\u001b[0m\u001b[0;34m]\u001b[0m\u001b[0;34m,\u001b[0m \u001b[0maxis\u001b[0m \u001b[0;34m=\u001b[0m \u001b[0;36m1\u001b[0m\u001b[0;34m)\u001b[0m\u001b[0;34m\u001b[0m\u001b[0;34m\u001b[0m\u001b[0m\n\u001b[0m\u001b[1;32m      3\u001b[0m \u001b[0;31m# Remove New_Price column from data\u001b[0m\u001b[0;34m\u001b[0m\u001b[0;34m\u001b[0m\u001b[0m\n\u001b[1;32m      4\u001b[0m \u001b[0;34m\u001b[0m\u001b[0m\n\u001b[1;32m      5\u001b[0m \u001b[0;31m#look at updated data\u001b[0m\u001b[0;34m\u001b[0m\u001b[0;34m\u001b[0m\u001b[0m\n",
      "\u001b[0;31mNameError\u001b[0m: name 'data' is not defined"
     ]
    }
   ],
   "source": [
    "# Remove S.No. column from data\n",
    "data = data.drop(['S.No.'], axis = 1)\n",
    "# Remove New_Price column from data\n",
    "\n",
    "#look at updated data\n",
    "data.info()"
   ]
  },
  {
   "cell_type": "markdown",
   "metadata": {
    "id": "Jtsji8B-6ex4"
   },
   "source": [
    "The year column tells us how old the car is. It will be easier to preform calculations with this information if we create an age column to have the age of the car in its own column."
   ]
  },
  {
   "cell_type": "code",
   "execution_count": null,
   "metadata": {
    "id": "6i27HcaO6W-6"
   },
   "outputs": [],
   "source": [
    "from datetime import date\n",
    "#Create todays year and then calculate\n",
    "\n",
    "\n",
    "#Look at top of data to see updated column\n",
    "data.head()"
   ]
  },
  {
   "cell_type": "markdown",
   "metadata": {
    "id": "tyekL8Fo61Xc"
   },
   "source": [
    "The name column is holding multiple pieces of information within it. It is telling us the Brand of the car and the model of the car. Let's pull those into additonal columns."
   ]
  },
  {
   "cell_type": "code",
   "execution_count": null,
   "metadata": {
    "id": "goYWbGbb6Rl0"
   },
   "outputs": [],
   "source": [
    "data['Brand'] = data.Name.str.split().str.get(0)\n",
    "data['Model'] = data.Name.str.split().str.get(1) + \" \" + data.Name.str.split().str.get(2)\n",
    "data[['Name','Brand','Model']]"
   ]
  },
  {
   "cell_type": "markdown",
   "metadata": {
    "id": "PRUpP8Vw7_Hy"
   },
   "source": [
    "Lastly lets look a bit deeper into the columns we made to see if any brand names are incorrect"
   ]
  },
  {
   "cell_type": "code",
   "execution_count": null,
   "metadata": {
    "id": "4zPbjsJa72Uk"
   },
   "outputs": [],
   "source": [
    "#Names of all brands in Brand Columns\n",
    "\n",
    "#Number of unique brands\n"
   ]
  },
  {
   "cell_type": "markdown",
   "metadata": {
    "id": "1pEdAUnL8TV0"
   },
   "source": [
    "We can see that there are two different unique names for the Isuzu brand and Land isn't a car brand (the correct name is Land Rover).\n",
    "\n",
    "So lets fix that!"
   ]
  },
  {
   "cell_type": "code",
   "execution_count": null,
   "metadata": {
    "id": "fykmg2Ga8lO4"
   },
   "outputs": [],
   "source": [
    "data[\"Brand\"].replace({\"ISUZU\": \"Isuzu\",\"Land\":\"Land Rover\"}, inplace=True)"
   ]
  },
  {
   "cell_type": "markdown",
   "metadata": {
    "id": "UTe4Tr4d-0QU"
   },
   "source": [
    "The last step before we can preform EDA on the data is to seperate the numerical and categorical variables. But first there are a couple of columns that arent the correct type as the include units"
   ]
  },
  {
   "cell_type": "code",
   "execution_count": null,
   "metadata": {
    "id": "mm9gmTOnAS83"
   },
   "outputs": [],
   "source": [
    "#Converting column types of Mileage , Engine , Power\n",
    "data['Mileage'] = data.Mileage.str.split().str.get(0)\n",
    "data['Engine'] = data.Engine.str.split().str.get(0)\n",
    "data['Power'] = data.Power.str.split().str.get(0)\n",
    "\n",
    "data[\"Mileage\"] = data[\"Mileage\"].astype(float)\n",
    "data[\"Engine\"] = data[\"Engine\"].astype(float)\n",
    "data[\"Power\"].replace({\"null\": None}, inplace=True)\n",
    "data[\"Power\"] = data[\"Power\"].astype(float)"
   ]
  },
  {
   "cell_type": "code",
   "execution_count": null,
   "metadata": {
    "id": "V7Wp2MTQLAyX"
   },
   "outputs": [],
   "source": [
    "# run describe again after correcting data\n"
   ]
  },
  {
   "cell_type": "markdown",
   "metadata": {
    "id": "fSfgc0fngwgD"
   },
   "source": [
    "Let's also try binning on mileage to turn it into a categorical variable! We are going to do 4 bins to split the data into quarters"
   ]
  },
  {
   "cell_type": "code",
   "execution_count": null,
   "metadata": {
    "id": "lkKxlAMChFrz"
   },
   "outputs": [],
   "source": [
    "#Bin Mileage via equal width binning\n",
    "\n",
    "#Convert from categorical into str (This is so it can be used like our other categorical variables below)\n",
    "\n",
    "\n",
    "#binned outputs\n"
   ]
  },
  {
   "cell_type": "code",
   "execution_count": null,
   "metadata": {
    "id": "3IdZQIaB_Aj4"
   },
   "outputs": [],
   "source": [
    "#Seperate columns based on data type and print lists of each type\n",
    "cat_cols = data.select_dtypes(include=['object','string']).columns\n",
    "num_cols = data.select_dtypes(include=np.number).columns.tolist()\n",
    "print(\"Categorical Variables:\")\n",
    "print(cat_cols)\n",
    "print(\"Numerical Variables:\")\n",
    "print(num_cols)"
   ]
  },
  {
   "cell_type": "markdown",
   "metadata": {
    "id": "qd74t34m83v_"
   },
   "source": [
    "# EDA - Exploratory Data Analysis"
   ]
  },
  {
   "cell_type": "markdown",
   "metadata": {
    "id": "JAGXAQ41EDZg"
   },
   "source": [
    "The First step of EDA is to create histograms and box plots for the numerical variables. (Some people use the describe() command in EDA rather than the first step of data processing)\n"
   ]
  },
  {
   "cell_type": "code",
   "execution_count": null,
   "metadata": {
    "id": "n-m8NSklABzO"
   },
   "outputs": [],
   "source": [
    "import seaborn as sns\n",
    "import matplotlib.pyplot as plt\n",
    "\n",
    "for col in num_cols:\n",
    "    print('\\n')\n",
    "    print(col)\n",
    "    print('Skew :', round(data[col].skew(), 2))\n",
    "\n",
    "    plt.figure(figsize=(15, 4))\n",
    "\n",
    "    # Distribution Plot\n",
    "    plt.subplot(1, 2, 1)\n",
    "    sns.histplot(data[col], kde=True, color='#04213b')\n",
    "    plt.title(f'Distribution of {col}')\n",
    "    plt.xlabel(col)\n",
    "    plt.ylabel('Count')\n",
    "\n",
    "    # Box Plot\n",
    "    plt.subplot(1, 2, 2)\n",
    "    sns.boxplot(x=data[col], color='grey')\n",
    "    plt.title(f'Boxplot of {col}')\n",
    "    plt.xlabel(col)\n",
    "\n",
    "    plt.tight_layout()\n",
    "    plt.show()"
   ]
  },
  {
   "cell_type": "markdown",
   "metadata": {
    "id": "F1hYVb847Hsl"
   },
   "source": [
    "Handle the Kilometers Driven Outlier"
   ]
  },
  {
   "cell_type": "code",
   "execution_count": null,
   "metadata": {
    "id": "wSURgxwe6SXY"
   },
   "outputs": [],
   "source": [
    "# remove kilometers driven outlier\n",
    "\n",
    "\n",
    "\n",
    "# rerun plots"
   ]
  },
  {
   "cell_type": "markdown",
   "metadata": {
    "id": "T821od6XEvnh"
   },
   "source": [
    "Next we will create count plots for the categorical variables!"
   ]
  },
  {
   "cell_type": "code",
   "execution_count": null,
   "metadata": {
    "id": "SxEydSu2E4Pm"
   },
   "outputs": [],
   "source": [
    "import seaborn as sns\n",
    "import matplotlib.pyplot as plt\n",
    "\n",
    "fig, axes = plt.subplots(3, 2, figsize=(22, 22))\n",
    "fig.suptitle('Count Plots for Categorical Variables')\n",
    "\n",
    "# Bar Plot with Count Labels\n",
    "sns.countplot(ax=axes[0, 0], x='Fuel_Type', data=data, palette='viridis',\n",
    "              order=data['Fuel_Type'].value_counts().index)\n",
    "axes[0, 0].set_title('Fuel Type Distribution')\n",
    "for p in axes[0, 0].patches:\n",
    "    axes[0, 0].annotate(f'{p.get_height()}', (p.get_x() + p.get_width() / 2., p.get_height()),\n",
    "                        ha='center', va='center', xytext=(0, 10), textcoords='offset points')\n",
    "\n",
    "# Horizontal Bar Plot with Count Labels\n",
    "sns.countplot(ax=axes[0, 1], y='Transmission', data=data, palette='viridis',\n",
    "              order=data['Transmission'].value_counts().index)\n",
    "axes[0, 1].set_title('Transmission Distribution')\n",
    "for p in axes[0, 1].patches:\n",
    "    axes[0, 1].annotate(f'{p.get_width()}', (p.get_x() + p.get_width(), p.get_y() + p.get_height() / 2.),\n",
    "                        ha='right', va='center', xytext=(-10, 0), textcoords='offset points')\n",
    "\n",
    "# Horizontal Bar Plot with Percentage Labels\n",
    "sns.countplot(ax=axes[1, 0], y='Owner_Type', data=data, palette=\"viridis\",\n",
    "              order=data['Owner_Type'].value_counts().index)\n",
    "axes[1, 0].set_title('Owner Type Distribution')\n",
    "for p in axes[1, 0].patches:\n",
    "    axes[1, 0].annotate(f'{p.get_width()}', (p.get_x() + p.get_width(), p.get_y() + p.get_height() / 2.),\n",
    "                        ha='right', va='center', xytext=(10, 0), textcoords='offset points',rotation=-90)\n",
    "\n",
    "# Count Plot\n",
    "sns.countplot(ax=axes[1, 1], x='Location', data=data, palette='viridis',\n",
    "              order=data['Location'].value_counts().index)\n",
    "axes[1, 1].set_title('Location Distribution')\n",
    "for p in axes[1, 1].patches:\n",
    "    axes[1, 1].annotate(f'{p.get_height()}', (p.get_x() + p.get_width() / 2., p.get_height()),\n",
    "                        ha='center', va='center', xytext=(0, 10), textcoords='offset points')\n",
    "\n",
    "# Horizontal Bar Plot with Top 10 Brands and Count Labels\n",
    "sns.countplot(ax=axes[2, 0], y='Brand', data=data, palette='viridis',\n",
    "              order=data['Brand'].value_counts().iloc[:10].index)\n",
    "axes[2, 0].set_title('Top 10 Brands')\n",
    "for p in axes[2, 0].patches:\n",
    "    axes[2, 0].annotate(f'{p.get_width()}', (p.get_x() + p.get_width(), p.get_y() + p.get_height() / 2.),\n",
    "                        ha='right', va='center', xytext=(-10, 0), textcoords='offset points',color='white')\n",
    "\n",
    "# Horizontal Bar Plot with Top 10 Models and Count Labels\n",
    "sns.countplot(ax=axes[2, 1], y='Model', data=data, palette='viridis',\n",
    "              order=data['Model'].value_counts().iloc[:10].index)\n",
    "axes[2, 1].set_title('Top 10 Models')\n",
    "for p in axes[2, 1].patches:\n",
    "    axes[2, 1].annotate(f'{p.get_width()}', (p.get_x() + p.get_width(), p.get_y() + p.get_height() / 2.),\n",
    "                        ha='right', va='center', xytext=(-10, 0), textcoords='offset points',color='white')\n",
    "\n",
    "# Adjust tick labels for better readability\n",
    "axes[1, 1].tick_params(axis='y', labelrotation=0)\n",
    "axes[2, 0].tick_params(axis='y', labelrotation=0)\n",
    "axes[2, 1].tick_params(axis='y', labelrotation=0)\n",
    "\n",
    "plt.tight_layout(rect=[0, 0, 1, 0.96])  # Adjust subplot layout for the title\n",
    "plt.show()"
   ]
  },
  {
   "cell_type": "markdown",
   "metadata": {
    "id": "ObZQ_-eiFcNu"
   },
   "source": [
    "To do Bi-variate Analysis, the numerical variables with a large range need to be converted into logs so that they can be compared with other numerical variables"
   ]
  },
  {
   "cell_type": "code",
   "execution_count": null,
   "metadata": {
    "id": "PPwaFB-wGAyz"
   },
   "outputs": [],
   "source": [
    "# Function for log transformation of the column\n",
    "def log_transform(data,col):\n",
    "    for colname in col:\n",
    "       #Fill In"
   ]
  },
  {
   "cell_type": "code",
   "execution_count": null,
   "metadata": {
    "id": "umiVmihXGDwG"
   },
   "outputs": [],
   "source": [
    "#Log transformation of both columns (KM & $$)\n",
    "log_transform(data,['Kilometers_Driven','Price'])\n",
    "#Plot of Log transformation of the feature 'Kilometers_Driven'\n",
    "sns.histplot(data[\"Kilometers_Driven_log\"],kde=True);\n",
    "\n",
    "#Drop old columns\n"
   ]
  },
  {
   "cell_type": "code",
   "execution_count": null,
   "metadata": {
    "id": "naGbQI7VGZap"
   },
   "outputs": [],
   "source": [
    "#Plot of Log transformation of the feature 'Price'\n"
   ]
  },
  {
   "cell_type": "markdown",
   "metadata": {
    "id": "WzUKt4W5H-QP"
   },
   "source": [
    "**Its time for Bi-variate Analysis!**\n",
    "\n",
    "Let's dive deep into the realtionships between the categorical variables using stacked bar charts!"
   ]
  },
  {
   "cell_type": "code",
   "execution_count": null,
   "metadata": {
    "id": "_FmwB0DYJR0w"
   },
   "outputs": [],
   "source": [
    "plt.figure(figsize=(13,17))\n",
    "#Fill In\n",
    "plt.show()\n",
    "\n"
   ]
  },
  {
   "cell_type": "markdown",
   "metadata": {
    "id": "Ro_gKKKoKPO1"
   },
   "source": [
    "The plot above provides the following insights:\n",
    "\n",
    "* The variable Year has a positive correlation with price and mileage\n",
    "* A year has a Negative correlation with kilometers-Driven\n",
    "* Mileage is negatively correlated with Power\n",
    "* As power increases, mileage decreases\n",
    "* Car with recent make is higher at prices. As the age of the car increases price decreases\n",
    "* Engine and Power increase, and the price of the car increases\n"
   ]
  },
  {
   "cell_type": "markdown",
   "metadata": {
    "id": "H42dHlTYJRL4"
   },
   "source": [
    "Lets Look at the variation in Price with Categorical Variables\n",
    "\n"
   ]
  },
  {
   "cell_type": "code",
   "execution_count": null,
   "metadata": {
    "id": "bH_qS7Y5KTdK"
   },
   "outputs": [],
   "source": [
    "#  Violin plot\n",
    "import seaborn as sns\n",
    "sns.violinplot(data=data, x=\"Transmission\", y=\"Price_log\")"
   ]
  },
  {
   "cell_type": "markdown",
   "metadata": {
    "id": "yqtPxZ0RX9f5"
   },
   "source": [
    "The concentration of prices for both automatic and manual cars is visually evident, with **automatic cars exhibiting a notably higher pricing trend**."
   ]
  },
  {
   "cell_type": "code",
   "execution_count": null,
   "metadata": {
    "id": "P-Y5-dduWiar"
   },
   "outputs": [],
   "source": [
    "import matplotlib.pyplot as plt\n",
    "# Set the figure size\n",
    "plt.figure(figsize=(12, 8))\n",
    "\n",
    "# Violin Plot with Increased Width\n",
    "sns.violinplot(data=data, x=\"Seats\", y=\"Price_log\", scale=\"width\", width=1,pallette='viridis')\n",
    "\n",
    "# Add title and labels\n",
    "plt.title('Violin Plot of Seats vs Price_log')\n",
    "plt.xlabel('Seats')\n",
    "plt.ylabel('Price_log')\n",
    "\n",
    "plt.show()"
   ]
  },
  {
   "cell_type": "markdown",
   "metadata": {
    "id": "1x2uhI8CpAt2"
   },
   "source": [
    "The highest price range is observed among 2-seater cars, prompting further analysis to understand the underlying reasons. Additionally, the distribution of 4-seater cars indicates a diverse range, encompassing both budget-friendly options and higher-priced vehicles."
   ]
  },
  {
   "cell_type": "code",
   "execution_count": null,
   "metadata": {
    "id": "pIYEED8Hoid8"
   },
   "outputs": [],
   "source": [
    "\n",
    "# Set the figure size\n",
    "plt.figure(figsize=(12, 8))\n",
    "\n",
    "# Strip Plot\n",
    "sns.stripplot(data=data, x=\"Fuel_Type\", y=\"Price_log\")\n",
    "\n",
    "plt.title('Stripplot of Fuel_Type vs Price_log ')\n",
    "plt.xlabel('Fuel Type')\n",
    "plt.ylabel('Price_log')\n",
    "\n",
    "plt.show()"
   ]
  },
  {
   "cell_type": "markdown",
   "metadata": {
    "id": "pqyydT0uombT"
   },
   "source": [
    "**The price ranges for petrol and diesel cars exhibit a wider distribution, indicating a broad spectrum of prices**. Diesel cars in general exhibit a higher price range. In contrast, the number of used electric cars is limited; however, their prices are relatively higher."
   ]
  },
  {
   "cell_type": "code",
   "execution_count": null,
   "metadata": {
    "id": "vNKOpjFhXdDI"
   },
   "outputs": [],
   "source": [
    "plt.figure(figsize=(15, 10))\n",
    "sns.scatterplot(x='Power',y='Price_log',hue='Transmission',data=data)\n",
    "plt.show()"
   ]
  },
  {
   "cell_type": "markdown",
   "metadata": {
    "id": "ZdlJU_23YF5M"
   },
   "source": [
    "Automatic vehicles exhibit **higher power and price ranges** compared to the Manual Vehicles. For both the Transmission categories, the Price increases as the power increases."
   ]
  },
  {
   "cell_type": "code",
   "execution_count": null,
   "metadata": {
    "id": "Rk_UivjYJlpF"
   },
   "outputs": [],
   "source": [
    "import seaborn as sns\n",
    "import matplotlib.pyplot as plt\n",
    "\n",
    "\n",
    "# Set the figure size and create subplots with Seaborn\n",
    "fig, axarr = plt.subplots(3, 2, figsize=(18, 18))\n",
    "plt.subplots_adjust(hspace=1.0)\n",
    "plt.subplots_adjust(wspace=.5)\n",
    "\n",
    "# Plotting using Seaborn with viridis color palette\n",
    "sns.barplot(x='Location', y='Price_log', data=data.groupby('Location')['Price_log'].mean().sort_values(ascending=False).reset_index(), ax=axarr[0, 0],palette='viridis')\n",
    "axarr[0, 0].set_title(\"Location Vs Price\", fontsize=18)\n",
    "axarr[0, 0].set_xlabel('Location')\n",
    "axarr[0, 0].set_ylabel('Price_log')\n",
    "axarr[0, 0].set_xticklabels(axarr[0, 0].get_xticklabels(), rotation=45, ha='right')\n",
    "\n",
    "sns.barplot(x='Fuel_Type', y='Price_log', data=data.groupby('Fuel_Type')['Price_log'].mean().sort_values(ascending=False).reset_index(), ax=axarr[0, 1],palette='viridis')\n",
    "axarr[0, 1].set_title(\"Fuel_Type Vs Price\", fontsize=18)\n",
    "axarr[0, 1].set_xlabel('Fuel_Type')\n",
    "axarr[0, 1].set_ylabel('Price_log')\n",
    "\n",
    "sns.barplot(x='Owner_Type', y='Price_log', data=data.groupby('Owner_Type')['Price_log'].mean().sort_values(ascending=False).reset_index(), ax=axarr[1, 0],palette='viridis')\n",
    "axarr[1, 0].set_title(\"Owner_Type Vs Price\", fontsize=18)\n",
    "axarr[1, 0].set_xlabel('Owner_Type')\n",
    "axarr[1, 0].set_ylabel('Price_log')\n",
    "\n",
    "sns.barplot(x='Brand', y='Price_log', data=data.groupby('Brand')['Price_log'].mean().sort_values(ascending=False).head(10).reset_index(), ax=axarr[1, 1],palette='viridis')\n",
    "axarr[1, 1].set_title(\"Brand Vs Price\", fontsize=18)\n",
    "axarr[1, 1].set_xlabel('Brand')\n",
    "axarr[1, 1].set_ylabel('Price_log')\n",
    "axarr[1, 1].set_xticklabels(axarr[1, 1].get_xticklabels(), rotation=45, ha='right')\n",
    "\n",
    "sns.barplot(x='Model', y='Price_log', data=data.groupby('Model')['Price_log'].mean().sort_values(ascending=False).head(10).reset_index(), ax=axarr[2, 0],palette='viridis')\n",
    "axarr[2, 0].set_title(\"Model Vs Price\", fontsize=18)\n",
    "axarr[2, 0].set_xlabel('Model')\n",
    "axarr[2, 0].set_ylabel('Price_log')\n",
    "axarr[2, 0].set_xticklabels(axarr[2, 0].get_xticklabels(), rotation=45, ha='right')\n",
    "\n",
    "sns.barplot(x='Car_Age', y='Price_log', data=data.groupby('Car_Age')['Price_log'].mean().sort_values(ascending=False).reset_index(), ax=axarr[2, 1],palette='viridis')\n",
    "axarr[2, 1].set_title(\"Car_Age Vs Price\", fontsize=18)\n",
    "axarr[2, 1].set_xlabel('Car_Age')\n",
    "axarr[2, 1].set_ylabel('Price_log')\n",
    "\n",
    "# Remove spines\n",
    "sns.despine()\n",
    "\n",
    "plt.show()"
   ]
  },
  {
   "cell_type": "markdown",
   "metadata": {
    "id": "GXhgy5SsXpDP"
   },
   "source": [
    "Observations\n",
    "\n",
    "1. The price of cars is high in Coimbatore and less price in Kolkata and Jaipur\n",
    "2. Automatic cars have more price than manual cars.\n",
    "3. Diesel and Electric cars have almost the same price, which is maximum, and 4. LPG cars have the lowest price\n",
    "5. First-owner cars are higher in price, followed by a second\n",
    "6. The third owner’s price is lesser than the Fourth and above\n",
    "7. Lamborghini brand is the highest in price\n",
    "8. Gallardocoupe Model is the highest in price\n",
    "9. 2 Seater has the highest price followed by 7 Seater\n",
    "10. The latest model cars are high in price"
   ]
  },
  {
   "cell_type": "markdown",
   "metadata": {
    "id": "ORe2_3BxO3E-"
   },
   "source": [
    "**Last but not least we have Multivariate Analysis**\n",
    "\n",
    "A very common way to look at correlation between variables is through Heat maps."
   ]
  },
  {
   "cell_type": "code",
   "execution_count": null,
   "metadata": {
    "id": "HGG7AuC6O1-h"
   },
   "outputs": [],
   "source": [
    "plt.figure(figsize=(12, 7))\n",
    "#Fill In\n",
    "plt.show()"
   ]
  },
  {
   "cell_type": "code",
   "execution_count": null,
   "metadata": {
    "id": "c5yjLNNRLGEK"
   },
   "outputs": [],
   "source": [
    "#Multivariate Violin Plot Analysis.\n",
    "# Set the figure size\n",
    "plt.figure(figsize=(25, 15))\n",
    "\n",
    "# Violin plot with increased size\n",
    "sns.catplot(x=\"Fuel_Type\", y=\"Price_log\",\n",
    "                hue=\"Transmission\",\n",
    "                data=data, kind=\"violin\", split=True,\n",
    "                height=6, aspect=1.2,density_norm='width')  # Adjusted height and aspect for increased size\n",
    "\n",
    "plt.title('Violin Plot of Fuel_type vs Price_log')\n",
    "plt.xlabel('Fuel_Type')\n",
    "plt.ylabel('Price_log')\n",
    "\n",
    "plt.show()"
   ]
  },
  {
   "cell_type": "markdown",
   "metadata": {
    "id": "Yazhj6g8MaSp"
   },
   "source": [
    "Among Automatic Range of cars, Diesel cars have higher price range compared to all other type of fuels. However among the manual cars, the variation is comparitively less."
   ]
  },
  {
   "cell_type": "markdown",
   "metadata": {
    "id": "uG0Sb9-1f0Js"
   },
   "source": [
    "# Imputation of Variables"
   ]
  },
  {
   "cell_type": "markdown",
   "metadata": {
    "id": "kMJAFDkZf50f"
   },
   "source": [
    "Since we have seats, engine, and power of cars that are missing we need a way to fill them in. Lets Go through Different ways of imputation!"
   ]
  },
  {
   "cell_type": "code",
   "execution_count": null,
   "metadata": {
    "id": "etBuYr_zgd5C"
   },
   "outputs": [],
   "source": [
    "#Replace Seats with ....\n",
    "\n",
    "#Replace Engine with ....\n",
    "\n",
    "#Replace Power with ...."
   ]
  },
  {
   "cell_type": "code",
   "execution_count": null,
   "metadata": {
    "id": "bM6SnVLUi7fs"
   },
   "outputs": [],
   "source": [
    "#Test if it worked\n"
   ]
  }
 ],
 "metadata": {
  "colab": {
   "provenance": []
  },
  "kernelspec": {
   "display_name": "Python 3 (ipykernel)",
   "language": "python",
   "name": "python3"
  },
  "language_info": {
   "codemirror_mode": {
    "name": "ipython",
    "version": 3
   },
   "file_extension": ".py",
   "mimetype": "text/x-python",
   "name": "python",
   "nbconvert_exporter": "python",
   "pygments_lexer": "ipython3",
   "version": "3.10.6"
  }
 },
 "nbformat": 4,
 "nbformat_minor": 1
}
